{
 "cells": [
  {
   "cell_type": "markdown",
   "metadata": {},
   "source": [
    "# APS 8"
   ]
  },
  {
   "cell_type": "markdown",
   "metadata": {},
   "source": [
    "Entrega: 28/11 ao final do atendimento (17:15)"
   ]
  },
  {
   "cell_type": "markdown",
   "metadata": {},
   "source": [
    "## Questão 1"
   ]
  },
  {
   "cell_type": "markdown",
   "metadata": {},
   "source": [
    "Assuma que $X$ seja uma variável aleatória contínua que descreve o preço de um multímetro digital em uma loja brasileira qualquer. Ainda, assuma que o preço médio seja igual a $R\\$ 45,00$ e o desvio padrão, igual a $R\\$45,00$ e o desvio padrão, igual a $R\\$ 25,00$.\n",
    "\n",
    "Em todos os itens a seguir, deixe claro como foi construído o novo preço em função de $X$.\n",
    "\n",
    "Deixe todas as contas claramente indicadas.\n",
    "\n",
    "a) Se todas as lojas brasileiras que vendem multímetro resolvessem acrescentar 15 reais no preço de cada um dos seus respectivos multímetros. Nesse caso, qual o novo preço médio do multímetro e respectivo desvio padrão?\n",
    "\n",
    "b) Se todas as lojas brasileiras que vendem multímetro resolvessem aumentar o preço de cada um dos seus respectivos multímetros em $150\\%$. Nesse caso, qual o novo preço médio do multímetro e respectivo desvio padrão?\n",
    "\n",
    "c) Se você precisa comprar dez multímetros e deseja comprá-los todos iguais e na mesma loja. Nesse caso, qual o gasto total esperado e respectivo desvio padrão?"
   ]
  },
  {
   "cell_type": "markdown",
   "metadata": {},
   "source": [
    "## Respostas"
   ]
  },
  {
   "cell_type": "markdown",
   "metadata": {},
   "source": [
    "#### a) Nesse caso a diferença se observa apenas no preço médio, que nesse caso aumenta também em 15,00 reais, de acordo com a seguinte fórmula : E(X+d) = 45 + 15 = 60, ou seja X o preço anterior, d o acréscimo e o novo preço médio é de 60,00 reais. Já o desvio padrão não se altera nesse caso.  "
   ]
  },
  {
   "cell_type": "markdown",
   "metadata": {},
   "source": [
    "#### b) Como dessa forma há uma alteração de maneira \"multiplicativa\", segue-se a seguinte lógica: E(cX+d) = (45 x 1,5) + 45 = 112,5 reias, enquanto o novo desvio padrão será a raiz de, Var(cX+d) = 2,5^2 x 25^2 = 62,5 reais é o novo desvio padrão."
   ]
  },
  {
   "cell_type": "markdown",
   "metadata": {},
   "source": [
    "#### c) Partindo-se do fato de que o preço irá se repetir, afinal serão escolhas iguais, o gasto total esperado é a média multiplicada pelo número de produtos comprados, portanto 10x45 = 450 reais, e o desvio padrão da mesma maneira, 25 x 10 = 250 reais de desvio."
   ]
  },
  {
   "cell_type": "markdown",
   "metadata": {},
   "source": [
    "## Questão 2"
   ]
  },
  {
   "cell_type": "markdown",
   "metadata": {},
   "source": [
    "\t\n",
    "\t\n",
    "Assuma que, na disciplina Ciência dos dados, a nota final da disciplina seja função da nota média das provas $X$ e da nota média dos projetos $Y$. Assuma ainda que ambas as notas tem mesmo peso na construção da nota final na disciplina.\n",
    "\n",
    "\n",
    "Considerando que a nota média dos alunos nas provas segue uma normal com média 4 e desvio padrão igual a 1,5, ou seja $ X \\sim N(4 ; 2,25)$ . E que a nota média dos alunos nos projetos segue uma normal com média 7 e desvio padrão igual a 1, ou seja, $Y\\sim N(7 ; 1)$.\n",
    "\n",
    "\n",
    "Na prática, é razoável acreditar que haja uma associação positiva entre essas notas. Aqui, considere que a covariância entre essas notas médias é igual a $0,675$ .\n",
    "\n",
    "Em todos os itens a seguir, deixe todas as contas claramente indicadas. \n",
    "\n",
    "\n",
    "a) Calcule a nota média final e respectivo desvio padrão.\n",
    "   \n",
    " b) Considere que a nota final na disciplina Ciência dos dados segue uma distribuição com média e variância obtidas no item anterior.      Calcule a probabilidade de um aluno ser aprovado na disciplina.\n"
   ]
  },
  {
   "cell_type": "markdown",
   "metadata": {},
   "source": [
    "## Respostas"
   ]
  },
  {
   "cell_type": "markdown",
   "metadata": {},
   "source": [
    "#### a) Pautando-se nas propriedades de esperança e variância, calcula-se a nota média final por E(aX+bY) = aE(X) + bE(Y) = 5.5, afinal ambas tem o mesmo peso (50%) e \"a\" nota 4, e \"b\" nota 7. Já para o desvio padrão, deve se fazer o cálculo a partir da variância e então tirar sua raiz, sendo que, Var(aX+bY) = (0.5^2)x2.25 + (0.5^2)x1 + (2x0.5x0.5)x0.675 = 1.15, portanto o desvio padrão é igual 1.07. "
   ]
  },
  {
   "cell_type": "code",
   "execution_count": 57,
   "metadata": {
    "collapsed": false
   },
   "outputs": [
    {
     "data": {
      "text/plain": [
       "0.67985369470424972"
      ]
     },
     "execution_count": 57,
     "metadata": {},
     "output_type": "execute_result"
    }
   ],
   "source": [
    "from scipy import stats\n",
    "Prob = 1-(stats.norm.cdf(5,loc=5.5,scale=1.07))\n",
    "Prob"
   ]
  },
  {
   "cell_type": "markdown",
   "metadata": {},
   "source": [
    "#### b)A partir do cálculo da cdf, sabe-se que a probabilidade de um aluno ser aprovado nessa disciplina é igual a 67,98%."
   ]
  },
  {
   "cell_type": "markdown",
   "metadata": {},
   "source": []
  },
  {
   "cell_type": "markdown",
   "metadata": {},
   "source": [
    "### Dataset para as questões de programação"
   ]
  },
  {
   "cell_type": "markdown",
   "metadata": {},
   "source": [
    "Vamos trabalhar com o problema *House Sales in King County*, do Kaggle\n",
    "[https://www.kaggle.com/harlfoxem/housesalesprediction](https://www.kaggle.com/harlfoxem/housesalesprediction)"
   ]
  },
  {
   "cell_type": "code",
   "execution_count": 58,
   "metadata": {
    "collapsed": true
   },
   "outputs": [],
   "source": [
    "import pandas as pd\n",
    "import numpy as np\n",
    "import matplotlib.pyplot as plt\n",
    "import statsmodels.api as sm\n",
    "from scipy import stats\n",
    "\n",
    "%matplotlib inline"
   ]
  },
  {
   "cell_type": "code",
   "execution_count": 59,
   "metadata": {
    "collapsed": false
   },
   "outputs": [],
   "source": [
    "houses = pd.read_csv(\"houses.csv\")"
   ]
  },
  {
   "cell_type": "code",
   "execution_count": 60,
   "metadata": {
    "collapsed": false
   },
   "outputs": [
    {
     "data": {
      "text/html": [
       "<div>\n",
       "<table border=\"1\" class=\"dataframe\">\n",
       "  <thead>\n",
       "    <tr style=\"text-align: right;\">\n",
       "      <th></th>\n",
       "      <th>price</th>\n",
       "      <th>bedrooms</th>\n",
       "      <th>bathrooms</th>\n",
       "      <th>sqft_living</th>\n",
       "      <th>sqft_lot</th>\n",
       "      <th>floors</th>\n",
       "      <th>sqft_basement</th>\n",
       "      <th>grade</th>\n",
       "    </tr>\n",
       "  </thead>\n",
       "  <tbody>\n",
       "    <tr>\n",
       "      <th>0</th>\n",
       "      <td>540000.0</td>\n",
       "      <td>4</td>\n",
       "      <td>2.50</td>\n",
       "      <td>2600</td>\n",
       "      <td>9935</td>\n",
       "      <td>2.0</td>\n",
       "      <td>0</td>\n",
       "      <td>8</td>\n",
       "    </tr>\n",
       "    <tr>\n",
       "      <th>1</th>\n",
       "      <td>815000.0</td>\n",
       "      <td>3</td>\n",
       "      <td>3.75</td>\n",
       "      <td>2780</td>\n",
       "      <td>5002</td>\n",
       "      <td>2.0</td>\n",
       "      <td>0</td>\n",
       "      <td>10</td>\n",
       "    </tr>\n",
       "    <tr>\n",
       "      <th>2</th>\n",
       "      <td>279000.0</td>\n",
       "      <td>3</td>\n",
       "      <td>2.25</td>\n",
       "      <td>2070</td>\n",
       "      <td>7800</td>\n",
       "      <td>1.0</td>\n",
       "      <td>900</td>\n",
       "      <td>7</td>\n",
       "    </tr>\n",
       "    <tr>\n",
       "      <th>3</th>\n",
       "      <td>360000.0</td>\n",
       "      <td>2</td>\n",
       "      <td>2.50</td>\n",
       "      <td>1233</td>\n",
       "      <td>1244</td>\n",
       "      <td>2.0</td>\n",
       "      <td>270</td>\n",
       "      <td>7</td>\n",
       "    </tr>\n",
       "    <tr>\n",
       "      <th>4</th>\n",
       "      <td>309000.0</td>\n",
       "      <td>3</td>\n",
       "      <td>2.50</td>\n",
       "      <td>1990</td>\n",
       "      <td>3614</td>\n",
       "      <td>2.0</td>\n",
       "      <td>0</td>\n",
       "      <td>7</td>\n",
       "    </tr>\n",
       "  </tbody>\n",
       "</table>\n",
       "</div>"
      ],
      "text/plain": [
       "      price  bedrooms  bathrooms  sqft_living  sqft_lot  floors  \\\n",
       "0  540000.0         4       2.50         2600      9935     2.0   \n",
       "1  815000.0         3       3.75         2780      5002     2.0   \n",
       "2  279000.0         3       2.25         2070      7800     1.0   \n",
       "3  360000.0         2       2.50         1233      1244     2.0   \n",
       "4  309000.0         3       2.50         1990      3614     2.0   \n",
       "\n",
       "   sqft_basement  grade  \n",
       "0              0      8  \n",
       "1              0     10  \n",
       "2            900      7  \n",
       "3            270      7  \n",
       "4              0      7  "
      ]
     },
     "execution_count": 60,
     "metadata": {},
     "output_type": "execute_result"
    }
   ],
   "source": [
    "houses.head()"
   ]
  },
  {
   "cell_type": "markdown",
   "metadata": {},
   "source": [
    "## Q3\n",
    "\n",
    "O dataset fornecido é uma amostra extraída de um dataset maior. A amostra pode ter vindo de uma população com média de `sqft_lot` de 8250? \n",
    "\n",
    "Passos:\n",
    "\n",
    "**a)** Verifique que `sqft_lot` **não** é normal.\n",
    "\n",
    "Dica: na *APS 7* foi feito um teste de normalidade. Repita o mesmo processo\n",
    "\n",
    "**b)**  Se `sqft_lot` fosse normal, que tipo de teste poderíamos ter usado?\n",
    "\n",
    "**c)** Saberíamos $\\mu$ para montar o t? Saberíamos $\\sigma$?\n",
    "\n",
    "\n",
    "**Bootstrap**:\n",
    "\n",
    "**d)** Monte um intervalo percentil boostrap de $95\\%$.\n",
    "\n",
    "**e)** Informe os valores inferiores e superiores\n",
    "\n",
    "**f)** Conclua o teste\n"
   ]
  },
  {
   "cell_type": "markdown",
   "metadata": {},
   "source": [
    "## Respostas"
   ]
  },
  {
   "cell_type": "code",
   "execution_count": 61,
   "metadata": {
    "collapsed": false
   },
   "outputs": [
    {
     "data": {
      "image/png": "[encoded data removed]",
      "text/plain": [
       "<matplotlib.figure.Figure at 0x2cf6f36a8d0>"
      ]
     },
     "metadata": {},
     "output_type": "display_data"
    }
   ],
   "source": [
    "tamanho = houses.sqft_lot\n",
    "stats.probplot(tamanho, dist='norm', plot=plt)\n",
    "plt.show()"
   ]
  },
  {
   "cell_type": "markdown",
   "metadata": {},
   "source": [
    "Pela distribuição dos pontos ao longo da reta, pode-se afirmar que não se trata de uma normal."
   ]
  },
  {
   "cell_type": "markdown",
   "metadata": {},
   "source": [
    "Caso a distribuição se tratasse de maneira normal, então poderia ser realizado um teste de hipótese para análise desta distribuição."
   ]
  },
  {
   "cell_type": "markdown",
   "metadata": {},
   "source": [
    "O valor de σ não seria conhecido, apesar de ser possível encontrar um valor aproximado deste, por outro lado o valor de μ seria conhecido e poderia ser prontamente utilizado para avaliação da distribuição normal."
   ]
  },
  {
   "cell_type": "code",
   "execution_count": 62,
   "metadata": {
    "collapsed": false
   },
   "outputs": [
    {
     "name": "stdout",
     "output_type": "stream",
     "text": [
      "Valor mínimo igual a: \n",
      "6926.072307692307\n",
      "Valor Máximo igual a: \n",
      "14623.161538461538\n"
     ]
    }
   ],
   "source": [
    "am = []\n",
    "for i in houses.sqft_lot:\n",
    "    am.append(i)\n",
    "al = 0.05\n",
    "n = len(am)\n",
    "s = np.std(am, ddof=1)\n",
    "m_ = np.mean(am)\n",
    "l = []\n",
    "for i in range(10000):\n",
    "    #valor aleatório para toda a porcentagem que se deseja analisar o bootsrap\n",
    "    a = np.random.choice(am,size = n, replace = True).mean()\n",
    "    l.append(a)\n",
    "#Valores Máximo e Mínimo do boostrap criado\n",
    "print(\"Valor mínimo igual a: \")\n",
    "print(pd.Series(l).quantile(al/2))\n",
    "print(\"Valor Máximo igual a: \")\n",
    "print(pd.Series(l).quantile(1-(al/2)))"
   ]
  },
  {
   "cell_type": "markdown",
   "metadata": {},
   "source": [
    "## Q4\n",
    "\n",
    "Faça uma regressão que usa `sqft_living` como variável explicativa  e `price` como resultado: "
   ]
  },
  {
   "cell_type": "markdown",
   "metadata": {},
   "source": [
    "**a).** De acordo com a notação que usamos em aula, quem é $\\hat{\\beta_0}$ e quem é $\\hat{\\beta_1}$ ?"
   ]
  },
  {
   "cell_type": "code",
   "execution_count": 63,
   "metadata": {
    "collapsed": false
   },
   "outputs": [
    {
     "data": {
      "text/html": [
       "<table class=\"simpletable\">\n",
       "<caption>OLS Regression Results</caption>\n",
       "<tr>\n",
       "  <th>Dep. Variable:</th>          <td>price</td>      <th>  R-squared:         </th> <td>   0.472</td>\n",
       "</tr>\n",
       "<tr>\n",
       "  <th>Model:</th>                   <td>OLS</td>       <th>  Adj. R-squared:    </th> <td>   0.463</td>\n",
       "</tr>\n",
       "<tr>\n",
       "  <th>Method:</th>             <td>Least Squares</td>  <th>  F-statistic:       </th> <td>   56.21</td>\n",
       "</tr>\n",
       "<tr>\n",
       "  <th>Date:</th>             <td>Tue, 28 Nov 2017</td> <th>  Prob (F-statistic):</th> <td>2.70e-10</td>\n",
       "</tr>\n",
       "<tr>\n",
       "  <th>Time:</th>                 <td>17:14:00</td>     <th>  Log-Likelihood:    </th> <td> -892.24</td>\n",
       "</tr>\n",
       "<tr>\n",
       "  <th>No. Observations:</th>      <td>    65</td>      <th>  AIC:               </th> <td>   1788.</td>\n",
       "</tr>\n",
       "<tr>\n",
       "  <th>Df Residuals:</th>          <td>    63</td>      <th>  BIC:               </th> <td>   1793.</td>\n",
       "</tr>\n",
       "<tr>\n",
       "  <th>Df Model:</th>              <td>     1</td>      <th>                     </th>     <td> </td>   \n",
       "</tr>\n",
       "<tr>\n",
       "  <th>Covariance Type:</th>      <td>nonrobust</td>    <th>                     </th>     <td> </td>   \n",
       "</tr>\n",
       "</table>\n",
       "<table class=\"simpletable\">\n",
       "<tr>\n",
       "       <td></td>          <th>coef</th>     <th>std err</th>      <th>t</th>      <th>P>|t|</th> <th>[95.0% Conf. Int.]</th> \n",
       "</tr>\n",
       "<tr>\n",
       "  <th>const</th>       <td> 4.928e+04</td> <td> 7.44e+04</td> <td>    0.662</td> <td> 0.510</td> <td>-9.95e+04  1.98e+05</td>\n",
       "</tr>\n",
       "<tr>\n",
       "  <th>sqft_living</th> <td>  247.0810</td> <td>   32.954</td> <td>    7.498</td> <td> 0.000</td> <td>  181.227   312.935</td>\n",
       "</tr>\n",
       "</table>\n",
       "<table class=\"simpletable\">\n",
       "<tr>\n",
       "  <th>Omnibus:</th>       <td>12.716</td> <th>  Durbin-Watson:     </th> <td>   1.643</td>\n",
       "</tr>\n",
       "<tr>\n",
       "  <th>Prob(Omnibus):</th> <td> 0.002</td> <th>  Jarque-Bera (JB):  </th> <td>  13.432</td>\n",
       "</tr>\n",
       "<tr>\n",
       "  <th>Skew:</th>          <td> 0.973</td> <th>  Prob(JB):          </th> <td> 0.00121</td>\n",
       "</tr>\n",
       "<tr>\n",
       "  <th>Kurtosis:</th>      <td> 4.081</td> <th>  Cond. No.          </th> <td>6.03e+03</td>\n",
       "</tr>\n",
       "</table>"
      ],
      "text/plain": [
       "<class 'statsmodels.iolib.summary.Summary'>\n",
       "\"\"\"\n",
       "                            OLS Regression Results                            \n",
       "==============================================================================\n",
       "Dep. Variable:                  price   R-squared:                       0.472\n",
       "Model:                            OLS   Adj. R-squared:                  0.463\n",
       "Method:                 Least Squares   F-statistic:                     56.21\n",
       "Date:                Tue, 28 Nov 2017   Prob (F-statistic):           2.70e-10\n",
       "Time:                        17:14:00   Log-Likelihood:                -892.24\n",
       "No. Observations:                  65   AIC:                             1788.\n",
       "Df Residuals:                      63   BIC:                             1793.\n",
       "Df Model:                           1                                         \n",
       "Covariance Type:            nonrobust                                         \n",
       "===============================================================================\n",
       "                  coef    std err          t      P>|t|      [95.0% Conf. Int.]\n",
       "-------------------------------------------------------------------------------\n",
       "const        4.928e+04   7.44e+04      0.662      0.510     -9.95e+04  1.98e+05\n",
       "sqft_living   247.0810     32.954      7.498      0.000       181.227   312.935\n",
       "==============================================================================\n",
       "Omnibus:                       12.716   Durbin-Watson:                   1.643\n",
       "Prob(Omnibus):                  0.002   Jarque-Bera (JB):               13.432\n",
       "Skew:                           0.973   Prob(JB):                      0.00121\n",
       "Kurtosis:                       4.081   Cond. No.                     6.03e+03\n",
       "==============================================================================\n",
       "\n",
       "Warnings:\n",
       "[1] Standard Errors assume that the covariance matrix of the errors is correctly specified.\n",
       "[2] The condition number is large, 6.03e+03. This might indicate that there are\n",
       "strong multicollinearity or other numerical problems.\n",
       "\"\"\""
      ]
     },
     "execution_count": 63,
     "metadata": {},
     "output_type": "execute_result"
    }
   ],
   "source": [
    "hp = houses.price\n",
    "hl = houses[\"sqft_living\"]\n",
    "hl = sm.add_constant(hl, prepend=True)\n",
    "res = sm.OLS(hp,hl).fit()\n",
    "res.summary()"
   ]
  },
  {
   "cell_type": "markdown",
   "metadata": {},
   "source": [
    "A partir da tabela sabe-se os valor de beta0 e beta1 e portanto:"
   ]
  },
  {
   "cell_type": "code",
   "execution_count": 64,
   "metadata": {
    "collapsed": false
   },
   "outputs": [
    {
     "name": "stdout",
     "output_type": "stream",
     "text": [
      "B0 é igual a: \n",
      "49281.4580204\n",
      "B1 é igual a: \n",
      "247.08099401\n"
     ]
    }
   ],
   "source": [
    "B0 = res.params.const\n",
    "B1 = res.params.sqft_living\n",
    "print(\"B0 é igual a: \")\n",
    "print(B0)\n",
    "print(\"B1 é igual a: \")\n",
    "print(B1)"
   ]
  },
  {
   "cell_type": "markdown",
   "metadata": {},
   "source": [
    "**b).** Interprete o $R^2$ , os valores $P > |t|$ e também *Prob (F-statistic)*."
   ]
  },
  {
   "cell_type": "markdown",
   "metadata": {},
   "source": [
    "O valor de R² é basicamente a demonstração numérica de quanto o modelo é capaz de os valores, ou seja uma espécie de ajuste do mesmo. Enquanto o P>|t|é apenas o calculo da probabilidade de que não existe relação ou influência entre variáveis determinadas."
   ]
  },
  {
   "cell_type": "markdown",
   "metadata": {},
   "source": [
    "c) Escreva a equação que expressa price em função de sqft_living."
   ]
  },
  {
   "cell_type": "code",
   "execution_count": 65,
   "metadata": {
    "collapsed": false
   },
   "outputs": [
    {
     "name": "stdout",
     "output_type": "stream",
     "text": [
      "House.price = 49281.458020355116 + 247.08099401043833 hl, sendo hp o preço e hl o sqft_living, ou seja tamanho do interior habitável da casa\n"
     ]
    }
   ],
   "source": [
    "print(\"House.price = {0} + {1} hl, sendo hp o preço e hl o sqft_living, ou seja tamanho do interior habitável da casa\".format(B0,B1))"
   ]
  },
  {
   "cell_type": "markdown",
   "metadata": {},
   "source": [
    "d) Faça um gráfico de dispersão de `price` em função de `sqft_living`, plote a equação que encontrou no item anterior no mesmo gráfico"
   ]
  },
  {
   "cell_type": "code",
   "execution_count": 66,
   "metadata": {
    "collapsed": false,
    "scrolled": true
   },
   "outputs": [
    {
     "data": {
      "text/plain": [
       "[<matplotlib.lines.Line2D at 0x2cf6f48c9e8>]"
      ]
     },
     "execution_count": 66,
     "metadata": {},
     "output_type": "execute_result"
    },
    {
     "data": {
      "image/png": "[encoded data removed]",
      "text/plain": [
       "<matplotlib.figure.Figure at 0x2cf6f48c470>"
      ]
     },
     "metadata": {},
     "output_type": "display_data"
    }
   ],
   "source": [
    "houses.plot.scatter(\"sqft_living\",\"price\")\n",
    "hp = 49281.45802 + 247.080994*houses[\"sqft_living\"]\n",
    "plt.plot(houses['sqft_living'],hp,\"green\")"
   ]
  },
  {
   "cell_type": "markdown",
   "metadata": {},
   "source": [
    "## Q5\n",
    "\n",
    "Faça agora uma regressão múltipla que tenta prever `price` (variável explicada) em função das variáveis `sqft_lot`  e `sqft_basement` (explicativa).\n",
    "\n",
    "Dica: inclua as duas colunas dentro de uma variável `X`, o restante não se altera em relação à regressão simples.\n",
    "\n",
    "\n",
    "```python\n",
    "Y = houses['price']\n",
    "X = houses.loc[:, ['sqft_lot', 'sqft_basement']]\n",
    "```\n",
    "\n",
    "Pede-se:"
   ]
  },
  {
   "cell_type": "markdown",
   "metadata": {},
   "source": [
    "a) Repita a intepretação dos valores  P>|t|P>|t|  e Prob (F-statistic) porém com duas variáveis.\n",
    "O que os valores encontrados implicam para a regressão?"
   ]
  },
  {
   "cell_type": "markdown",
   "metadata": {},
   "source": [
    "Esses valores, P>|t|P>|t| e Prob (F-statistic) demonstram ideia de relação que entre para as duas variáveis."
   ]
  },
  {
   "cell_type": "markdown",
   "metadata": {},
   "source": [
    "b) Escreva a função que foi encontrada pela regressão ( price em função de  sqft_lot e sqft_basement)"
   ]
  },
  {
   "cell_type": "code",
   "execution_count": 67,
   "metadata": {
    "collapsed": false
   },
   "outputs": [
    {
     "data": {
      "text/html": [
       "<table class=\"simpletable\">\n",
       "<caption>OLS Regression Results</caption>\n",
       "<tr>\n",
       "  <th>Dep. Variable:</th>          <td>price</td>      <th>  R-squared:         </th> <td>   0.029</td>\n",
       "</tr>\n",
       "<tr>\n",
       "  <th>Model:</th>                   <td>OLS</td>       <th>  Adj. R-squared:    </th> <td>  -0.003</td>\n",
       "</tr>\n",
       "<tr>\n",
       "  <th>Method:</th>             <td>Least Squares</td>  <th>  F-statistic:       </th> <td>  0.9115</td>\n",
       "</tr>\n",
       "<tr>\n",
       "  <th>Date:</th>             <td>Tue, 28 Nov 2017</td> <th>  Prob (F-statistic):</th>  <td> 0.407</td> \n",
       "</tr>\n",
       "<tr>\n",
       "  <th>Time:</th>                 <td>17:14:01</td>     <th>  Log-Likelihood:    </th> <td> -912.03</td>\n",
       "</tr>\n",
       "<tr>\n",
       "  <th>No. Observations:</th>      <td>    65</td>      <th>  AIC:               </th> <td>   1830.</td>\n",
       "</tr>\n",
       "<tr>\n",
       "  <th>Df Residuals:</th>          <td>    62</td>      <th>  BIC:               </th> <td>   1837.</td>\n",
       "</tr>\n",
       "<tr>\n",
       "  <th>Df Model:</th>              <td>     2</td>      <th>                     </th>     <td> </td>   \n",
       "</tr>\n",
       "<tr>\n",
       "  <th>Covariance Type:</th>      <td>nonrobust</td>    <th>                     </th>     <td> </td>   \n",
       "</tr>\n",
       "</table>\n",
       "<table class=\"simpletable\">\n",
       "<tr>\n",
       "        <td></td>           <th>coef</th>     <th>std err</th>      <th>t</th>      <th>P>|t|</th> <th>[95.0% Conf. Int.]</th> \n",
       "</tr>\n",
       "<tr>\n",
       "  <th>const</th>         <td> 5.237e+05</td> <td> 5.01e+04</td> <td>   10.462</td> <td> 0.000</td> <td> 4.24e+05  6.24e+05</td>\n",
       "</tr>\n",
       "<tr>\n",
       "  <th>sqft_lot</th>      <td>    2.7668</td> <td>    2.383</td> <td>    1.161</td> <td> 0.250</td> <td>   -1.997     7.531</td>\n",
       "</tr>\n",
       "<tr>\n",
       "  <th>sqft_basement</th> <td>   68.6891</td> <td>  101.802</td> <td>    0.675</td> <td> 0.502</td> <td> -134.810   272.188</td>\n",
       "</tr>\n",
       "</table>\n",
       "<table class=\"simpletable\">\n",
       "<tr>\n",
       "  <th>Omnibus:</th>       <td>24.116</td> <th>  Durbin-Watson:     </th> <td>   1.833</td>\n",
       "</tr>\n",
       "<tr>\n",
       "  <th>Prob(Omnibus):</th> <td> 0.000</td> <th>  Jarque-Bera (JB):  </th> <td>  38.221</td>\n",
       "</tr>\n",
       "<tr>\n",
       "  <th>Skew:</th>          <td> 1.369</td> <th>  Prob(JB):          </th> <td>5.02e-09</td>\n",
       "</tr>\n",
       "<tr>\n",
       "  <th>Kurtosis:</th>      <td> 5.572</td> <th>  Cond. No.          </th> <td>2.50e+04</td>\n",
       "</tr>\n",
       "</table>"
      ],
      "text/plain": [
       "<class 'statsmodels.iolib.summary.Summary'>\n",
       "\"\"\"\n",
       "                            OLS Regression Results                            \n",
       "==============================================================================\n",
       "Dep. Variable:                  price   R-squared:                       0.029\n",
       "Model:                            OLS   Adj. R-squared:                 -0.003\n",
       "Method:                 Least Squares   F-statistic:                    0.9115\n",
       "Date:                Tue, 28 Nov 2017   Prob (F-statistic):              0.407\n",
       "Time:                        17:14:01   Log-Likelihood:                -912.03\n",
       "No. Observations:                  65   AIC:                             1830.\n",
       "Df Residuals:                      62   BIC:                             1837.\n",
       "Df Model:                           2                                         \n",
       "Covariance Type:            nonrobust                                         \n",
       "=================================================================================\n",
       "                    coef    std err          t      P>|t|      [95.0% Conf. Int.]\n",
       "---------------------------------------------------------------------------------\n",
       "const          5.237e+05   5.01e+04     10.462      0.000      4.24e+05  6.24e+05\n",
       "sqft_lot          2.7668      2.383      1.161      0.250        -1.997     7.531\n",
       "sqft_basement    68.6891    101.802      0.675      0.502      -134.810   272.188\n",
       "==============================================================================\n",
       "Omnibus:                       24.116   Durbin-Watson:                   1.833\n",
       "Prob(Omnibus):                  0.000   Jarque-Bera (JB):               38.221\n",
       "Skew:                           1.369   Prob(JB):                     5.02e-09\n",
       "Kurtosis:                       5.572   Cond. No.                     2.50e+04\n",
       "==============================================================================\n",
       "\n",
       "Warnings:\n",
       "[1] Standard Errors assume that the covariance matrix of the errors is correctly specified.\n",
       "[2] The condition number is large, 2.5e+04. This might indicate that there are\n",
       "strong multicollinearity or other numerical problems.\n",
       "\"\"\""
      ]
     },
     "execution_count": 67,
     "metadata": {},
     "output_type": "execute_result"
    }
   ],
   "source": [
    "a2 = houses['price']\n",
    "hloc = houses.loc[:, ['sqft_lot', 'sqft_basement']]\n",
    "hloc = sm.add_constant(hloc, prepend=True)\n",
    "resultados = sm.OLS(a2,hloc).fit()\n",
    "resultados.summary()"
   ]
  }
 ],
 "metadata": {
  "kernelspec": {
   "display_name": "Python 3",
   "language": "python",
   "name": "python3"
  },
  "language_info": {
   "codemirror_mode": {
    "name": "ipython",
    "version": 3
   },
   "file_extension": ".py",
   "mimetype": "text/x-python",
   "name": "python",
   "nbconvert_exporter": "python",
   "pygments_lexer": "ipython3",
   "version": "3.6.0"
  }
 },
 "nbformat": 4,
 "nbformat_minor": 2
}
